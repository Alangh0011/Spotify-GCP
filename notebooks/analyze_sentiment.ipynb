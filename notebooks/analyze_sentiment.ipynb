{
 "cells": [
  {
   "cell_type": "code",
   "execution_count": null,
   "id": "1d12ca15",
   "metadata": {},
   "outputs": [],
   "source": [
    "import pandas as pd # Es una libreria para el manejo de datos\n",
    "from textblob import TextBlob # Es una libreria para el procesamiento de lenguaje natural\n",
    "\n",
    "# Leer el CSV con las letras\n",
    "filename = input(\"Archivo CSV con letras (ej: ../data/DE_LA_ROSE_top_tracks_letras.csv): \")\n",
    "df = pd.read_csv(filename)"
   ]
  },
  {
   "cell_type": "code",
   "execution_count": null,
   "id": "cf9c4c64",
   "metadata": {},
   "outputs": [],
   "source": [
    "def get_sentiment(text):\n",
    "    try:\n",
    "        blob = TextBlob(str(text))\n",
    "        return blob.sentiment.polarity, blob.sentiment.subjectivity\n",
    "    except Exception as e:\n",
    "        print(f\"Error analizando: {e}\")\n",
    "        return 0, 0"
   ]
  },
  {
   "cell_type": "markdown",
   "id": "886fcb0d",
   "metadata": {},
   "source": [
    "🔎 ¿Qué hace get_sentiment(text)?\n",
    "Esta función:\n",
    "\n",
    "Recibe un texto (normalmente una letra de canción 🎵).\n",
    "\n",
    "Usa TextBlob para analizar el sentimiento.\n",
    "\n",
    "Devuelve dos valores:\n",
    "\n",
    "polaridad (polarity) → qué tan positivo o negativo es.\n",
    "\n",
    "subjetividad (subjectivity) → qué tan emocional/opinativo es.\n",
    "\n",
    "   try:\n",
    "        blob = TextBlob(str(text))\n",
    "Crea un objeto TextBlob con el texto.\n",
    "\n",
    "str(text) asegura que sea un string (por si llega un NaN o algo raro).\n",
    "\n",
    "`return blob.sentiment.polarity, blob.sentiment.subjectivity`\n",
    "\n",
    ".sentiment.polarity: valor entre -1.0 (muy negativo) y +1.0 (muy positivo)\n",
    "\n",
    ".sentiment.subjectivity: valor entre 0.0 (muy objetivo) y 1.0 (muy subjetivo)\n",
    "\n",
    "✅ Esto devuelve una tupla (polaridad, subjetividad)\n",
    "\n",
    "🎯 ¿Qué es blob.sentiment.polarity?\n",
    "🔢 Es un número entre -1.0 y 1.0 que indica:\n",
    "Valor\tSignificado emocional\tEjemplo\n",
    "-1.0\tMuy negativo 😢\t\"I hate everything\"\n",
    "0\tNeutral 😐\t\"It is a table\"\n",
    "+1.0\tMuy positivo 😊\t\"I love my life\"\n",
    "\n",
    "✅ Más positivo = más feliz o alegre\n",
    "❌ Más negativo = más triste, agresivo o enojado\n",
    "\n",
    "🤔 ¿Y qué es blob.sentiment.subjectivity?\n",
    "🔢 Es un número entre 0.0 y 1.0 que indica:\n",
    "Valor\t¿Qué tanto es una opinión? 🧠🗣️\tEjemplo\n",
    "0.0\tMuy objetivo (solo hechos) 📊\t\"The sky is blue\"\n",
    "0.5\tMezcla entre hecho y opinión 🤔\t\"The sky is blue and pretty\"\n",
    "1.0\tMuy subjetivo (pura opinión) ❤️🔥\t\"This is the best song ever\"\n",
    "\n",
    "✅ Más alto = más emocional o personal\n",
    "❌ Más bajo = más factual o neutral"
   ]
  },
  {
   "cell_type": "code",
   "execution_count": null,
   "id": "c30f7c63",
   "metadata": {},
   "outputs": [],
   "source": [
    "# Analizar sentimiento para cada letra\n",
    "df[['sentiment_polarity', 'sentiment_subjectivity']] = df['lyrics'].apply(lambda x: pd.Series(get_sentiment(x)))\n",
    "\n",
    "# Guardar resultado\n",
    "outfilename = filename.replace('.csv', '_sentiment.csv')\n",
    "df.to_csv(outfilename, index=False)\n",
    "print(f\"Archivo con sentimiento guardado: {outfilename}\")"
   ]
  },
  {
   "cell_type": "markdown",
   "id": "45163062",
   "metadata": {},
   "source": [
    "`df[['sentiment_polarity', 'sentiment_subjectivity']] = df['lyrics'].apply(lambda x: pd.Series(get_sentiment(x)))`\n",
    "\n",
    "¿Qué hace esta línea?\n",
    "🔁 Recorre cada letra de canción en df['lyrics'].\n",
    "\n",
    "🧠 Llama a tu función get_sentiment(x), que devuelve dos cosas:\n",
    "\n",
    "polarity → emoción (positivo/negativo)\n",
    "\n",
    "subjectivity → qué tan opinativo es\n",
    "\n",
    "📊 pd.Series() convierte el resultado (polarity, subjectivity) en una mini fila con 2 columnas.\n",
    "\n",
    "🧩 Asigna esas 2 columnas nuevas al DataFrame como:\n",
    "\n",
    "sentiment_polarity\n",
    "\n",
    "sentiment_subjectivity\n",
    "\n",
    "---------------------------------------------------\n",
    "df['lyrics'] → accede a la columna completa que contiene las letras de canciones.\n",
    "\n",
    ".apply(lambda x: ...) → itera fila por fila sobre esa columna (una letra a la vez).\n",
    "Cada letra se representa como x.\n",
    "\n",
    "get_sentiment(x) → se le aplica a una letra y devuelve: (polarity, subjectivity).\n",
    "\n",
    "pd.Series(...) → convierte ese par de valores en una pequeña serie tipo fila:\n",
    "como {\"sentiment_polarity\": ..., \"sentiment_subjectivity\": ...}.\n",
    "\n",
    "Esas dos nuevas columnas se guardan en el DataFrame."
   ]
  },
  {
   "cell_type": "markdown",
   "id": "8d0d939f",
   "metadata": {},
   "source": [
    "🔍 Comparación rápida:\n",
    "Ejemplo 1 — usar axis=1 cuando necesitas varias columnas:\n",
    "\n",
    "def get_lyrics(row):\n",
    "    return genius.search_song(row['song_name'], row['artist'])\n",
    "\n",
    "df['lyrics'] = df.apply(get_lyrics, axis=1)  # accede a muchas columnas\n",
    "Ejemplo 2 — usar apply sobre una sola columna:\n",
    "\n",
    "df['lyrics']  # solo contiene texto\n",
    "df['lyrics'].apply(lambda x: get_sentiment(x))  # pasa letra x a función\n",
    "Pero como get_sentiment(x) devuelve dos cosas → lo conviertes en pd.Series(...)\n",
    "Así puedes asignar cada valor a una columna distinta."
   ]
  }
 ],
 "metadata": {
  "language_info": {
   "name": "python"
  }
 },
 "nbformat": 4,
 "nbformat_minor": 5
}

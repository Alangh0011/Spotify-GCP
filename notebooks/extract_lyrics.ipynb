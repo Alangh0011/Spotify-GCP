{
 "cells": [
  {
   "cell_type": "code",
   "execution_count": 1,
   "id": "e98fd445",
   "metadata": {},
   "outputs": [],
   "source": [
    "import os\n",
    "import pandas as pd\n",
    "import lyricsgenius\n",
    "from dotenv import load_dotenv\n",
    "\n",
    "# Cargar keys\n",
    "load_dotenv()\n",
    "GENIUS_API_KEY = os.getenv(\"GENIUS_API_KEY\")"
   ]
  },
  {
   "cell_type": "code",
   "execution_count": null,
   "id": "f89849cb",
   "metadata": {},
   "outputs": [
    {
     "name": "stdout",
     "output_type": "stream",
     "text": [
      "Columnas disponibles: {'release_date', 'popularity', 'song_name', 'album', 'preview_url'}\n"
     ]
    }
   ],
   "source": [
    "#Inicializar Genius API\n",
    "genius = lyricsgenius.Genius(GENIUS_API_KEY,timeout=15, retries=3)\n",
    "\n",
    "filename = input(\"Introduce el nombre del archivo CSV a procesar (ej:): ../data/de_la_rose_top_tracks.csv): \")\n",
    "artist_name = input(\"Introduce el nombre del artista: \")\n",
    "\n",
    "df = pd.read_csv(filename)\n",
    "\n",
    "columns = set(df.columns)\n",
    "print(f\"Columnas disponibles: {columns}\")\n",
    "\n",
    "possible_song_cols = [c for c in columns if 'song' in c.lower() or 'name' in c.lower()]"
   ]
  },
  {
   "cell_type": "markdown",
   "id": "6909d782",
   "metadata": {},
   "source": [
    "possible_song_cols = [c for c in columns if 'song' in c.lower() or 'name' in c.lower()]\n",
    "\n",
    "1. columns\n",
    "Es una lista de nombres de columnas (por ejemplo, de un DataFrame de Pandas):\n",
    "columns = ['Track Name', 'Artist', 'Song Title', 'Duration_ms']\n",
    "\n",
    "2. c for c in columns\n",
    "Es un list comprehension, o comprensión de listas, que recorre cada elemento c en la lista columns.\n",
    "\n",
    "3. c.lower()\n",
    "Convierte cada nombre de columna a minúsculas para hacer la búsqueda insensible a mayúsculas:\n",
    "\n",
    "'Track Name'.lower() → 'track name'\n",
    "4. if 'song' in c.lower() or 'name' in c.lower()\n",
    "Aplica un filtro: solo incluir columnas cuyo nombre contenga \"song\" o \"name\".\n",
    "\n",
    "Va haciendo esto:\n",
    "\n",
    "Iteración\tc\tc.lower()\t¿Contiene 'song' o 'name'?\t¿Se incluye en la lista final?\n",
    "1\t'Track Name'\t'track name'\t✅ Sí (name)\t✅ Sí\n",
    "2\t'Artist'\t'artist'\t❌ No\t❌ No\n",
    "3\t'Genre'\t'genre'\t❌ No\t❌ No\n",
    "4\t'Song Title'\t'song title'\t✅ Sí (song)\t✅ Sí"
   ]
  },
  {
   "cell_type": "code",
   "execution_count": null,
   "id": "78b3e925",
   "metadata": {},
   "outputs": [],
   "source": [
    "song_col = possible_song_cols[0] if possible_song_cols else input(\"Columna de la canción\")\n",
    "\n",
    "print(f\"Usando columna de canción: {song_col}\")\n",
    "\n",
    "def get_lyrics(row):\n",
    "    try:\n",
    "        song = genius.search_song(row[song_col], artist_name)\n",
    "        return song.lyrics if song else ''\n",
    "    except Exception as e:\n",
    "        print(f\"Error al obtener la letra de {row[song_col]}: {e}\")\n",
    "        return ''\n",
    "    \n",
    "df['lyrics'] = df.apply(get_lyrics, axis=1)\n",
    "\n",
    "outfilename = filename.replace('.csv', '_letras.csv')\n",
    "df.to_csv(outfilename, index=False)\n",
    "print(f\"Archivo con letras guardado: {outfilename}\")"
   ]
  },
  {
   "cell_type": "markdown",
   "id": "4b8948ee",
   "metadata": {},
   "source": [
    "1. def get_lyrics(row):\n",
    "Define una función que recibe una fila del DataFrame.\n",
    "\n",
    "2. row[song_col]\n",
    "Obtiene el nombre de la canción desde la fila.\n",
    "song_col es la columna con los nombres de canciones (que detectaste antes).\n",
    "\n",
    "3. genius.search_song(row[song_col], artist_name)\n",
    "Usa la librería lyricsgenius para buscar la letra de la canción en Genius, combinando el nombre de la canción y el nombre del artista.\n",
    "\n",
    "🧠 Requiere que artist_name sea definido antes como una cadena con el nombre del artista.\n",
    "\n",
    "4. return song.lyrics if song else ''\n",
    "Si se encuentra la canción (song no es None), devuelve su letra.\n",
    "Si no, devuelve una cadena vacía ('').\n",
    "\n",
    "5. except Exception as e:\n",
    "Maneja errores (por ejemplo: si Genius no responde, hay caracteres raros, etc.).\n",
    "Imprime el error y devuelve '' para esa fila.\n",
    "\n",
    "6. df['lyrics'] = df.apply(get_lyrics, axis=1)\n",
    "👉 Aplica la función get_lyrics() a cada fila del DataFrame.\n",
    "\n",
    "axis=1 indica que trabaja fila por fila.\n",
    "\n",
    "El resultado (las letras) se guarda en una nueva columna llamada 'lyrics'.\n",
    "\n",
    "axis=0: aplica la función columna por columna (como \"modo vertical\")\n",
    "\n",
    "axis=1: aplica la función fila por fila (como en tu caso)"
   ]
  },
  {
   "cell_type": "markdown",
   "id": "995b750f",
   "metadata": {},
   "source": [
    "🔍 El método .apply() se encarga de eso\n",
    "Cuando haces:\n",
    "\n",
    "\n",
    "df.apply(get_lyrics, axis=1)\n",
    "Pandas automáticamente le pasa una fila a get_lyrics() en cada iteración.\n",
    "Tú no ves ese row directamente aquí:\n",
    "\n",
    "df.apply(get_lyrics, axis=1)\n",
    "...pero en el fondo, es como si Pandas hiciera esto:\n",
    "\n",
    "for fila in df.iterrows():\n",
    "    letra = get_lyrics(fila)\n",
    "📦 ¿Qué contiene row?\n",
    "Es una especie de \"mini-diccionario\" con los datos de una sola fila. Por ejemplo, si tienes este DataFrame:\n",
    "\n",
    "   song_name        artist\n",
    "0  Shape of You     Ed Sheeran\n",
    "1  Blinding Lights The Weeknd\n",
    "Entonces:\n",
    "\n",
    "En la primera vuelta, row['song_name'] → 'Shape of You'\n",
    "\n",
    "En la segunda vuelta, row['song_name'] → 'Blinding Lights'\n",
    "\n",
    "Y así para cada fila. Por eso la función get_lyrics(row) sabe qué canción buscar, gracias a esta línea dentro de ella:\n",
    "\n",
    "python\n",
    "Copiar\n",
    "Editar\n",
    "genius.search_song(row[song_col], artist_name)\n",
    "Ahí:\n",
    "\n",
    "song_col es el nombre de la columna con las canciones ('song_name')\n",
    "\n",
    "row[song_col] accede al nombre de la canción de esa fila\n",
    "\n",
    "\n",
    "----------------------------------------------------\n",
    "\n",
    "✅ Entonces, sí entendiste bien:\n",
    "row es la fila actual que apply() está procesando.\n",
    "\n",
    "La función se ejecuta una vez por cada fila.\n",
    "\n",
    "Tú decides cómo extraer los datos dentro de row usando row['nombre_columna']."
   ]
  }
 ],
 "metadata": {
  "kernelspec": {
   "display_name": "venv",
   "language": "python",
   "name": "python3"
  },
  "language_info": {
   "codemirror_mode": {
    "name": "ipython",
    "version": 3
   },
   "file_extension": ".py",
   "mimetype": "text/x-python",
   "name": "python",
   "nbconvert_exporter": "python",
   "pygments_lexer": "ipython3",
   "version": "3.12.4"
  }
 },
 "nbformat": 4,
 "nbformat_minor": 5
}

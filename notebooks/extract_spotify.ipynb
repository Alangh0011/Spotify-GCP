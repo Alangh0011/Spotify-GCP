{
 "cells": [
  {
   "cell_type": "code",
   "execution_count": 1,
   "id": "e251baf6",
   "metadata": {},
   "outputs": [],
   "source": [
    "import os\n",
    "import pandas as pd\n",
    "from dotenv import load_dotenv\n",
    "import spotipy\n",
    "from spotipy.oauth2 import SpotifyOAuth\n",
    "\n",
    "#Carga las variables de entorno desde el archivo .env\n",
    "load_dotenv()\n",
    "\n",
    "# Configura las credenciales de Spotify\n",
    "SPOTIFY_CLIENT_ID = os.getenv('SPOTIFY_CLIENT_ID')\n",
    "SPOTIFY_CLIENT_SECRET = os.getenv('SPOTIFY_CLIENT_SECRET')\n",
    "SPOTIFY_REDIRECT_URI = os.getenv('SPOTIFY_REDIRECT_URI', 'http://localhost:8888/callback')\n"
   ]
  },
  {
   "cell_type": "code",
   "execution_count": 2,
   "id": "c3238948",
   "metadata": {},
   "outputs": [],
   "source": [
    "#Inicializar spotify con las credenciales\n",
    "sp = spotipy.Spotify(auth_manager=SpotifyOAuth(\n",
    "    client_id=os.getenv(\"SPOTIFY_CLIENT_ID\"),\n",
    "    client_secret=os.getenv(\"SPOTIFY_CLIENT_SECRET\"),\n",
    "    redirect_uri=os.getenv(\"SPOTIFY_REDIRECT_URI\"),\n",
    "    scope=\"user-library-read\"\n",
    "))"
   ]
  },
  {
   "cell_type": "markdown",
   "id": "b085007e",
   "metadata": {},
   "source": [
    "Función para obtener las canciones más populares de un artista.\n",
    "    \n",
    "    Parámetros:\n",
    "        artist_name (str): Nombre del artista.\n",
    "        country (str): Código del país para los resultados. Default: \"US\".\n",
    "    \n",
    "    Retorna:\n",
    "        pd.DataFrame: DataFrame con las canciones más populares del artista."
   ]
  },
  {
   "cell_type": "code",
   "execution_count": 9,
   "id": "17f19f7f",
   "metadata": {},
   "outputs": [],
   "source": [
    "def get_artist_top_tracks(artist_name, country=\"US\"): #Es una función donde entran #el nombre del artista y el país\n",
    "    results= sp.search(q=f'artist:{artist_name}', type='artist')# \n",
    "    if not results['artists']['items']:\n",
    "        print(f\"No se encontró el artista: {artist_name}\")\n",
    "        return pd.DataFrame()\n",
    "\n",
    "    artist = results['artists']['items'][0]  # Obtiene el primer artista de los resultados\n",
    "    artist_id = artist['id']  # Obtiene el ID del artista\n",
    "\n",
    "    print(f\"Artista encontrado: {artist['name']} (ID: {artist_id})\")\n",
    "\n",
    "    # Obtiene las pistas más populares del artista\n",
    "    top_tracks = sp.artist_top_tracks(artist_id, country=country)\n",
    "\n",
    "    print(top_tracks['tracks'][0]['name'])  # Imprime el nombre de la primera pista popular\n",
    "    print(top_tracks['tracks'][0]['popularity'])  # Imprime el nombre de la primera pista popular\n",
    "    \n",
    "\n",
    "    print(f\"Total de pistas encontradas: {len(top_tracks['tracks'])}\")\n",
    "    if not top_tracks['tracks']:\n",
    "        print(f\"No se encontraron pistas populares para el artista: {artist_name}\")\n",
    "        return pd.DataFrame()\n",
    "    # Crea una lista de diccionarios con la información de las pistas\n",
    "    tracks_data = []\n",
    "    for track in top_tracks['tracks']:\n",
    "        track_info = {\n",
    "            'song_name': track['name'],\n",
    "            'popularity': track['popularity'],\n",
    "            'album': track['album']['name'],\n",
    "            'release_date': track['album']['release_date'],\n",
    "            'preview_url': track['preview_url']\n",
    "        }\n",
    "        tracks_data.append(track_info)\n",
    "    \n",
    "    # Crea un DataFrame de pandas con la información de las pistas\n",
    "    return pd.DataFrame(tracks_data)"
   ]
  },
  {
   "cell_type": "markdown",
   "id": "e739786e",
   "metadata": {},
   "source": [
    "sp.search(...)\n",
    "Este método permite hacer búsquedas dentro de Spotify. Puedes buscar por:\n",
    "\n",
    "artist (artistas)\n",
    "\n",
    "track (canciones)\n",
    "\n",
    "album\n",
    "\n",
    "playlist, etc.\n",
    "\n",
    "q = \"artist:Bad Bunny\"\n",
    "\n",
    "Esto le dice a Spotify que solo busque artistas cuyo nombre coincida con \"Bad Bunny\".\n",
    "\n",
    "Si solo usaras \"Bad Bunny\" buscaría canciones, artistas, álbumes, etc., pero al decir \"artist:Bad Bunny\" filtras directamente por artistas.\n",
    "\n",
    "type='artist'\n",
    "Le estás diciendo a Spotify que solo quieres resultados de tipo artista, no canciones ni álbumes."
   ]
  },
  {
   "cell_type": "code",
   "execution_count": 11,
   "id": "50d2974f",
   "metadata": {},
   "outputs": [
    {
     "name": "stdout",
     "output_type": "stream",
     "text": [
      "Artista encontrado: De La Rose (ID: 54seKvtsZauR1iauN0ptpo)\n",
      "Q U E V A S H A C E R H O Y ?\n",
      "87\n",
      "Total de pistas encontradas: 10\n",
      "Datos guardados en: ../data/de_la_rose_top_tracks.csv\n"
     ]
    }
   ],
   "source": [
    "if __name__ == \"__main__\":\n",
    "    artist_name = input(\"Ingresa el nombre del artista: \")\n",
    "    country = input(\"Ingresa el código del país (default: US): \") or \"US\"\n",
    "    \n",
    "    # Obtener las canciones del artista\n",
    "    df = get_artist_top_tracks(artist_name, country)\n",
    "\n",
    "    if not df.empty:\n",
    "        # Guardar los datos en un archivo CSV\n",
    "        output_file = f\"../data/{artist_name.replace(' ', '_')}_top_tracks.csv\"\n",
    "        df.to_csv(output_file, index=False)\n",
    "        print(f\"Datos guardados en: {output_file}\")\n",
    "    else:\n",
    "        print(\"No se generaron datos para guardar.\")"
   ]
  }
 ],
 "metadata": {
  "kernelspec": {
   "display_name": "venv",
   "language": "python",
   "name": "python3"
  },
  "language_info": {
   "codemirror_mode": {
    "name": "ipython",
    "version": 3
   },
   "file_extension": ".py",
   "mimetype": "text/x-python",
   "name": "python",
   "nbconvert_exporter": "python",
   "pygments_lexer": "ipython3",
   "version": "3.12.4"
  }
 },
 "nbformat": 4,
 "nbformat_minor": 5
}

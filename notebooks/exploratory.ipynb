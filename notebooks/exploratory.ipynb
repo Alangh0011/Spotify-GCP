{
 "cells": [
  {
   "cell_type": "code",
   "execution_count": 2,
   "id": "e251baf6",
   "metadata": {},
   "outputs": [],
   "source": [
    "import os\n",
    "import pandas as pd\n",
    "from dotenv import load_dotenv\n",
    "import spotipy\n",
    "from spotipy.oauth2 import SpotifyOAuth\n",
    "\n",
    "#Carga las variables de entorno desde el archivo .env\n",
    "load_dotenv()\n",
    "\n",
    "# Configura las credenciales de Spotify\n",
    "SPOTIFY_CLIENT_ID = os.getenv('SPOTIFY_CLIENT_ID')\n",
    "SPOTIFY_CLIENT_SECRET = os.getenv('SPOTIFY_CLIENT_SECRET')\n",
    "SPOTIFY_REDIRECT_URI = os.getenv('SPOTIFY_REDIRECT_URI', 'http://localhost:8888/callback')\n"
   ]
  },
  {
   "cell_type": "code",
   "execution_count": 3,
   "id": "c3238948",
   "metadata": {},
   "outputs": [],
   "source": [
    "#Inicializar spotify con las credenciales\n",
    "sp = spotipy.Spotify(auth_manager=SpotifyOAuth(\n",
    "    client_id=os.getenv(\"SPOTIFY_CLIENT_ID\"),\n",
    "    client_secret=os.getenv(\"SPOTIFY_CLIENT_SECRET\"),\n",
    "    redirect_uri=os.getenv(\"SPOTIFY_REDIRECT_URI\"),\n",
    "    scope=\"user-library-read\"\n",
    "))"
   ]
  },
  {
   "cell_type": "markdown",
   "id": "b085007e",
   "metadata": {},
   "source": [
    "Función para obtener las canciones más populares de un artista.\n",
    "    \n",
    "    Parámetros:\n",
    "        artist_name (str): Nombre del artista.\n",
    "        country (str): Código del país para los resultados. Default: \"US\".\n",
    "    \n",
    "    Retorna:\n",
    "        pd.DataFrame: DataFrame con las canciones más populares del artista."
   ]
  },
  {
   "cell_type": "code",
   "execution_count": 17,
   "id": "17f19f7f",
   "metadata": {},
   "outputs": [],
   "source": [
    "def get_artist_top_tracks(artist_name, country=\"US\"): #Es una función donde entran #el nombre del artista y el país\n",
    "    results= sp.search(q=f'artist:{artist_name}', type='artist')# \n",
    "    if not results['artists']['items']:\n",
    "        print(f\"No se encontró el artista: {artist_name}\")\n",
    "        return pd.DataFrame()\n",
    "\n",
    "    artist = results['artists']['items'][0]  # Obtiene el primer artista de los resultados\n",
    "    artist_id = artist['id']  # Obtiene el ID del artista\n",
    "\n",
    "    print(f\"Artista encontrado: {artist['name']} (ID: {artist_id})\")\n",
    "\n",
    "    # Obtiene las pistas más populares del artista\n",
    "    top_tracks = sp.artist_top_tracks(artist_id, country=country)\n",
    "\n",
    "    print(top_tracks['tracks'][0]['name'])  # Imprime el nombre de la primera pista popular\n",
    "\n",
    "    print(f\"Total de pistas encontradas: {len(top_tracks['tracks'])}\")\n",
    "    if not top_tracks['tracks']:\n",
    "        print(f\"No se encontraron pistas populares para el artista: {artist_name}\")\n",
    "        return pd.DataFrame()\n",
    "    # Crea una lista de diccionarios con la información de las pistas\n",
    "    tracks_data = []\n",
    "    for track in top_tracks['tracks']:\n",
    "        track_info = {\n",
    "            'track_name': track['name'],\n",
    "            'track_id': track['id'],\n",
    "            'album_name': track['album']['name'],\n",
    "            'album_id': track['album']['id'],\n",
    "            'popularity': track['popularity'],\n",
    "            'preview_url': track['preview_url'],\n",
    "            'explicit': track['explicit']\n",
    "        }\n",
    "        tracks_data.append(track_info)"
   ]
  },
  {
   "cell_type": "markdown",
   "id": "e739786e",
   "metadata": {},
   "source": [
    "sp.search(...)\n",
    "Este método permite hacer búsquedas dentro de Spotify. Puedes buscar por:\n",
    "\n",
    "artist (artistas)\n",
    "\n",
    "track (canciones)\n",
    "\n",
    "album\n",
    "\n",
    "playlist, etc.\n",
    "\n",
    "q = \"artist:Bad Bunny\"\n",
    "\n",
    "Esto le dice a Spotify que solo busque artistas cuyo nombre coincida con \"Bad Bunny\".\n",
    "\n",
    "Si solo usaras \"Bad Bunny\" buscaría canciones, artistas, álbumes, etc., pero al decir \"artist:Bad Bunny\" filtras directamente por artistas.\n",
    "\n",
    "type='artist'\n",
    "Le estás diciendo a Spotify que solo quieres resultados de tipo artista, no canciones ni álbumes."
   ]
  },
  {
   "cell_type": "code",
   "execution_count": 18,
   "id": "50d2974f",
   "metadata": {},
   "outputs": [
    {
     "name": "stdout",
     "output_type": "stream",
     "text": [
      "Artista encontrado: De La Rose (ID: 54seKvtsZauR1iauN0ptpo)\n",
      "Q U E V A S H A C E R H O Y ?\n",
      "Total de pistas encontradas: 10\n"
     ]
    }
   ],
   "source": [
    "if __name__ == \"__main__\":\n",
    "    artist_name = \"de la rose\"\n",
    "    country = \"US\"\n",
    "    \n",
    "    # Obtener las canciones del artista\n",
    "    df = get_artist_top_tracks(artist_name, country)"
   ]
  }
 ],
 "metadata": {
  "kernelspec": {
   "display_name": "venv",
   "language": "python",
   "name": "python3"
  },
  "language_info": {
   "codemirror_mode": {
    "name": "ipython",
    "version": 3
   },
   "file_extension": ".py",
   "mimetype": "text/x-python",
   "name": "python",
   "nbconvert_exporter": "python",
   "pygments_lexer": "ipython3",
   "version": "3.12.4"
  }
 },
 "nbformat": 4,
 "nbformat_minor": 5
}
